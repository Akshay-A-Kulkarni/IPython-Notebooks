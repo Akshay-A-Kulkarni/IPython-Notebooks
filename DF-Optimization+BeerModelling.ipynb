{
 "cells": [
  {
   "cell_type": "markdown",
   "metadata": {},
   "source": [
    "# __Beer Reviews Analysis__\n",
    "-- 09/23/19\n",
    "-- Akshay Kulkani\n",
    "\n",
    "## 1. Introduction\n",
    "\n",
    "This notebook explores the provided beer optimized_df dataset to perform exploratory data analysis, gather insight, determine significant factors leading to and estimating overall beer quality ..."
   ]
  },
  {
   "cell_type": "markdown",
   "metadata": {},
   "source": [
    "-----------------------------------------------------\n",
    "####  *Package installations and Environment Prep*"
   ]
  },
  {
   "cell_type": "code",
   "execution_count": 4,
   "metadata": {},
   "outputs": [],
   "source": [
    "# %%capture \n",
    "# # comment line above to show output\n",
    "\n",
    "# !python -m pip install pandas\n",
    "# !python -m pip install numpy\n",
    "# !python -m pip install sklearn\n",
    "# !python -m pip install matplotlib\n",
    "# !python -m pip install seaborn\n",
    "# !python -m pip install plotly\n",
    "# !python -m pip install plotly.offline\n",
    "# !python -m pip install dash\n",
    "\n"
   ]
  },
  {
   "cell_type": "code",
   "execution_count": 46,
   "metadata": {},
   "outputs": [],
   "source": [
    "# // Boiler plate imports\n",
    "\n",
    "import pandas as pd\n",
    "import os\n",
    "import numpy as np\n",
    "import sklearn as sk\n",
    "import seaborn as sns\n",
    "import matplotlib \n",
    "import matplotlib.pyplot as plt\n",
    "import pandas_profiling as ppf\n",
    "%matplotlib inline\n"
   ]
  },
  {
   "cell_type": "markdown",
   "metadata": {},
   "source": [
    "#### *Importing and Displying the data.*"
   ]
  },
  {
   "cell_type": "code",
   "execution_count": 6,
   "metadata": {},
   "outputs": [],
   "source": [
    "# Importing the csv and basic stats\n",
    "\n",
    "review_df = pd.read_csv(r\"beer_reviews_2.csv\")"
   ]
  },
  {
   "cell_type": "code",
   "execution_count": 7,
   "metadata": {},
   "outputs": [
    {
     "data": {
      "text/html": [
       "<div>\n",
       "<style scoped>\n",
       "    .dataframe tbody tr th:only-of-type {\n",
       "        vertical-align: middle;\n",
       "    }\n",
       "\n",
       "    .dataframe tbody tr th {\n",
       "        vertical-align: top;\n",
       "    }\n",
       "\n",
       "    .dataframe thead th {\n",
       "        text-align: right;\n",
       "    }\n",
       "</style>\n",
       "<table border=\"1\" class=\"dataframe\">\n",
       "  <thead>\n",
       "    <tr style=\"text-align: right;\">\n",
       "      <th></th>\n",
       "      <th>brewery_id</th>\n",
       "      <th>brewery_name</th>\n",
       "      <th>review_time</th>\n",
       "      <th>review_overall</th>\n",
       "      <th>review_aroma</th>\n",
       "      <th>review_appearance</th>\n",
       "      <th>review_profilename</th>\n",
       "      <th>beer_style</th>\n",
       "      <th>review_palate</th>\n",
       "      <th>review_taste</th>\n",
       "      <th>beer_name</th>\n",
       "      <th>beer_abv</th>\n",
       "      <th>beer_beerid</th>\n",
       "    </tr>\n",
       "  </thead>\n",
       "  <tbody>\n",
       "    <tr>\n",
       "      <th>0</th>\n",
       "      <td>10325</td>\n",
       "      <td>Vecchio Birraio</td>\n",
       "      <td>1234817823</td>\n",
       "      <td>1.5</td>\n",
       "      <td>2.0</td>\n",
       "      <td>2.5</td>\n",
       "      <td>stcules</td>\n",
       "      <td>Hefeweizen</td>\n",
       "      <td>1.5</td>\n",
       "      <td>1.5</td>\n",
       "      <td>Sausa Weizen</td>\n",
       "      <td>5.0</td>\n",
       "      <td>47986</td>\n",
       "    </tr>\n",
       "    <tr>\n",
       "      <th>1</th>\n",
       "      <td>10325</td>\n",
       "      <td>Vecchio Birraio</td>\n",
       "      <td>1235915097</td>\n",
       "      <td>3.0</td>\n",
       "      <td>2.5</td>\n",
       "      <td>3.0</td>\n",
       "      <td>stcules</td>\n",
       "      <td>English Strong Ale</td>\n",
       "      <td>3.0</td>\n",
       "      <td>3.0</td>\n",
       "      <td>Red Moon</td>\n",
       "      <td>6.2</td>\n",
       "      <td>48213</td>\n",
       "    </tr>\n",
       "    <tr>\n",
       "      <th>2</th>\n",
       "      <td>10325</td>\n",
       "      <td>Vecchio Birraio</td>\n",
       "      <td>1235916604</td>\n",
       "      <td>3.0</td>\n",
       "      <td>2.5</td>\n",
       "      <td>3.0</td>\n",
       "      <td>stcules</td>\n",
       "      <td>Foreign / Export Stout</td>\n",
       "      <td>3.0</td>\n",
       "      <td>3.0</td>\n",
       "      <td>Black Horse Black Beer</td>\n",
       "      <td>6.5</td>\n",
       "      <td>48215</td>\n",
       "    </tr>\n",
       "    <tr>\n",
       "      <th>3</th>\n",
       "      <td>10325</td>\n",
       "      <td>Vecchio Birraio</td>\n",
       "      <td>1234725145</td>\n",
       "      <td>3.0</td>\n",
       "      <td>3.0</td>\n",
       "      <td>3.5</td>\n",
       "      <td>stcules</td>\n",
       "      <td>German Pilsener</td>\n",
       "      <td>2.5</td>\n",
       "      <td>3.0</td>\n",
       "      <td>Sausa Pils</td>\n",
       "      <td>5.0</td>\n",
       "      <td>47969</td>\n",
       "    </tr>\n",
       "    <tr>\n",
       "      <th>4</th>\n",
       "      <td>1075</td>\n",
       "      <td>Caldera Brewing Company</td>\n",
       "      <td>1293735206</td>\n",
       "      <td>4.0</td>\n",
       "      <td>4.5</td>\n",
       "      <td>4.0</td>\n",
       "      <td>johnmichaelsen</td>\n",
       "      <td>American Double / Imperial IPA</td>\n",
       "      <td>4.0</td>\n",
       "      <td>4.5</td>\n",
       "      <td>Cauldron DIPA</td>\n",
       "      <td>7.7</td>\n",
       "      <td>64883</td>\n",
       "    </tr>\n",
       "  </tbody>\n",
       "</table>\n",
       "</div>"
      ],
      "text/plain": [
       "   brewery_id             brewery_name  review_time  review_overall  \\\n",
       "0       10325          Vecchio Birraio   1234817823             1.5   \n",
       "1       10325          Vecchio Birraio   1235915097             3.0   \n",
       "2       10325          Vecchio Birraio   1235916604             3.0   \n",
       "3       10325          Vecchio Birraio   1234725145             3.0   \n",
       "4        1075  Caldera Brewing Company   1293735206             4.0   \n",
       "\n",
       "   review_aroma  review_appearance review_profilename  \\\n",
       "0           2.0                2.5            stcules   \n",
       "1           2.5                3.0            stcules   \n",
       "2           2.5                3.0            stcules   \n",
       "3           3.0                3.5            stcules   \n",
       "4           4.5                4.0     johnmichaelsen   \n",
       "\n",
       "                       beer_style  review_palate  review_taste  \\\n",
       "0                      Hefeweizen            1.5           1.5   \n",
       "1              English Strong Ale            3.0           3.0   \n",
       "2          Foreign / Export Stout            3.0           3.0   \n",
       "3                 German Pilsener            2.5           3.0   \n",
       "4  American Double / Imperial IPA            4.0           4.5   \n",
       "\n",
       "                beer_name  beer_abv  beer_beerid  \n",
       "0            Sausa Weizen       5.0        47986  \n",
       "1                Red Moon       6.2        48213  \n",
       "2  Black Horse Black Beer       6.5        48215  \n",
       "3              Sausa Pils       5.0        47969  \n",
       "4           Cauldron DIPA       7.7        64883  "
      ]
     },
     "execution_count": 7,
     "metadata": {},
     "output_type": "execute_result"
    }
   ],
   "source": [
    "review_df.head(5) # display raw data "
   ]
  },
  {
   "cell_type": "code",
   "execution_count": 8,
   "metadata": {},
   "outputs": [
    {
     "data": {
      "text/plain": [
       "(1586614, 13)"
      ]
     },
     "execution_count": 8,
     "metadata": {},
     "output_type": "execute_result"
    }
   ],
   "source": [
    "review_df.shape # dims"
   ]
  },
  {
   "cell_type": "code",
   "execution_count": 9,
   "metadata": {},
   "outputs": [
    {
     "data": {
      "text/html": [
       "<div>\n",
       "<style scoped>\n",
       "    .dataframe tbody tr th:only-of-type {\n",
       "        vertical-align: middle;\n",
       "    }\n",
       "\n",
       "    .dataframe tbody tr th {\n",
       "        vertical-align: top;\n",
       "    }\n",
       "\n",
       "    .dataframe thead th {\n",
       "        text-align: right;\n",
       "    }\n",
       "</style>\n",
       "<table border=\"1\" class=\"dataframe\">\n",
       "  <thead>\n",
       "    <tr style=\"text-align: right;\">\n",
       "      <th></th>\n",
       "      <th>brewery_id</th>\n",
       "      <th>review_time</th>\n",
       "      <th>review_overall</th>\n",
       "      <th>review_aroma</th>\n",
       "      <th>review_appearance</th>\n",
       "      <th>review_palate</th>\n",
       "      <th>review_taste</th>\n",
       "      <th>beer_abv</th>\n",
       "      <th>beer_beerid</th>\n",
       "    </tr>\n",
       "  </thead>\n",
       "  <tbody>\n",
       "    <tr>\n",
       "      <th>count</th>\n",
       "      <td>1.586614e+06</td>\n",
       "      <td>1.586614e+06</td>\n",
       "      <td>1.586614e+06</td>\n",
       "      <td>1.586614e+06</td>\n",
       "      <td>1.586614e+06</td>\n",
       "      <td>1.586614e+06</td>\n",
       "      <td>1.586614e+06</td>\n",
       "      <td>1.518829e+06</td>\n",
       "      <td>1.586614e+06</td>\n",
       "    </tr>\n",
       "    <tr>\n",
       "      <th>mean</th>\n",
       "      <td>3.130099e+03</td>\n",
       "      <td>1.224089e+09</td>\n",
       "      <td>3.815581e+00</td>\n",
       "      <td>3.735636e+00</td>\n",
       "      <td>3.841642e+00</td>\n",
       "      <td>3.743701e+00</td>\n",
       "      <td>3.792860e+00</td>\n",
       "      <td>7.042387e+00</td>\n",
       "      <td>2.171279e+04</td>\n",
       "    </tr>\n",
       "    <tr>\n",
       "      <th>std</th>\n",
       "      <td>5.578104e+03</td>\n",
       "      <td>7.654427e+07</td>\n",
       "      <td>7.206219e-01</td>\n",
       "      <td>6.976167e-01</td>\n",
       "      <td>6.160928e-01</td>\n",
       "      <td>6.822184e-01</td>\n",
       "      <td>7.319696e-01</td>\n",
       "      <td>2.322526e+00</td>\n",
       "      <td>2.181834e+04</td>\n",
       "    </tr>\n",
       "    <tr>\n",
       "      <th>min</th>\n",
       "      <td>1.000000e+00</td>\n",
       "      <td>8.406720e+08</td>\n",
       "      <td>0.000000e+00</td>\n",
       "      <td>1.000000e+00</td>\n",
       "      <td>0.000000e+00</td>\n",
       "      <td>1.000000e+00</td>\n",
       "      <td>1.000000e+00</td>\n",
       "      <td>1.000000e-02</td>\n",
       "      <td>3.000000e+00</td>\n",
       "    </tr>\n",
       "    <tr>\n",
       "      <th>25%</th>\n",
       "      <td>1.430000e+02</td>\n",
       "      <td>1.173224e+09</td>\n",
       "      <td>3.500000e+00</td>\n",
       "      <td>3.500000e+00</td>\n",
       "      <td>3.500000e+00</td>\n",
       "      <td>3.500000e+00</td>\n",
       "      <td>3.500000e+00</td>\n",
       "      <td>5.200000e+00</td>\n",
       "      <td>1.717000e+03</td>\n",
       "    </tr>\n",
       "    <tr>\n",
       "      <th>50%</th>\n",
       "      <td>4.290000e+02</td>\n",
       "      <td>1.239203e+09</td>\n",
       "      <td>4.000000e+00</td>\n",
       "      <td>4.000000e+00</td>\n",
       "      <td>4.000000e+00</td>\n",
       "      <td>4.000000e+00</td>\n",
       "      <td>4.000000e+00</td>\n",
       "      <td>6.500000e+00</td>\n",
       "      <td>1.390600e+04</td>\n",
       "    </tr>\n",
       "    <tr>\n",
       "      <th>75%</th>\n",
       "      <td>2.372000e+03</td>\n",
       "      <td>1.288568e+09</td>\n",
       "      <td>4.500000e+00</td>\n",
       "      <td>4.000000e+00</td>\n",
       "      <td>4.000000e+00</td>\n",
       "      <td>4.000000e+00</td>\n",
       "      <td>4.500000e+00</td>\n",
       "      <td>8.500000e+00</td>\n",
       "      <td>3.944100e+04</td>\n",
       "    </tr>\n",
       "    <tr>\n",
       "      <th>max</th>\n",
       "      <td>2.800300e+04</td>\n",
       "      <td>1.326285e+09</td>\n",
       "      <td>5.000000e+00</td>\n",
       "      <td>5.000000e+00</td>\n",
       "      <td>5.000000e+00</td>\n",
       "      <td>5.000000e+00</td>\n",
       "      <td>5.000000e+00</td>\n",
       "      <td>5.770000e+01</td>\n",
       "      <td>7.731700e+04</td>\n",
       "    </tr>\n",
       "  </tbody>\n",
       "</table>\n",
       "</div>"
      ],
      "text/plain": [
       "         brewery_id   review_time  review_overall  review_aroma  \\\n",
       "count  1.586614e+06  1.586614e+06    1.586614e+06  1.586614e+06   \n",
       "mean   3.130099e+03  1.224089e+09    3.815581e+00  3.735636e+00   \n",
       "std    5.578104e+03  7.654427e+07    7.206219e-01  6.976167e-01   \n",
       "min    1.000000e+00  8.406720e+08    0.000000e+00  1.000000e+00   \n",
       "25%    1.430000e+02  1.173224e+09    3.500000e+00  3.500000e+00   \n",
       "50%    4.290000e+02  1.239203e+09    4.000000e+00  4.000000e+00   \n",
       "75%    2.372000e+03  1.288568e+09    4.500000e+00  4.000000e+00   \n",
       "max    2.800300e+04  1.326285e+09    5.000000e+00  5.000000e+00   \n",
       "\n",
       "       review_appearance  review_palate  review_taste      beer_abv  \\\n",
       "count       1.586614e+06   1.586614e+06  1.586614e+06  1.518829e+06   \n",
       "mean        3.841642e+00   3.743701e+00  3.792860e+00  7.042387e+00   \n",
       "std         6.160928e-01   6.822184e-01  7.319696e-01  2.322526e+00   \n",
       "min         0.000000e+00   1.000000e+00  1.000000e+00  1.000000e-02   \n",
       "25%         3.500000e+00   3.500000e+00  3.500000e+00  5.200000e+00   \n",
       "50%         4.000000e+00   4.000000e+00  4.000000e+00  6.500000e+00   \n",
       "75%         4.000000e+00   4.000000e+00  4.500000e+00  8.500000e+00   \n",
       "max         5.000000e+00   5.000000e+00  5.000000e+00  5.770000e+01   \n",
       "\n",
       "        beer_beerid  \n",
       "count  1.586614e+06  \n",
       "mean   2.171279e+04  \n",
       "std    2.181834e+04  \n",
       "min    3.000000e+00  \n",
       "25%    1.717000e+03  \n",
       "50%    1.390600e+04  \n",
       "75%    3.944100e+04  \n",
       "max    7.731700e+04  "
      ]
     },
     "execution_count": 9,
     "metadata": {},
     "output_type": "execute_result"
    }
   ],
   "source": [
    "review_df.describe() # basic numeric col-wise stats\n",
    "# print(((optimized_df_df[\"brewery_name\"].unique().size)))"
   ]
  },
  {
   "cell_type": "markdown",
   "metadata": {},
   "source": [
    "----------------------------------------------------\n",
    "## 2. Pre-EDA Optimizations.\n",
    "\n",
    "`Pandas DataFrames are great!` - *Me*\\\n",
    "\\\n",
    "They offer flexibilty, a rich and easy-to-use API and robust performance.\n",
    "Ususally when working in Python using pandas with small datasets (a few megabytes), performance is almost never a problem. But When we move to larger datasets (100 megabytes to multiple gigabytes), pandas can slow down and performance issues can make run times much longer, and many times this can cause code to fail entirely due to insufficient memory .\n",
    "\n",
    "Therefore through experience and hardships (like trying to fit huge inverted indexes in memory), I can attest that tweaking Python’s memory usage with pandas, and reducing a dataframe’s memory footprint goes a long way in speeding up analyses and ensuring good performance, I try to implement minor optimizations whenever I can, and pesonally it's a step thats often overlooked but is quite beneficial to include.\n",
    "\n",
    "\n",
    "*There are great resources that anyone can find on the internet that explain downcasting and how python/pandas handles types of subtypes of data within a dataframe. I definitely think it merits more attention*\n"
   ]
  },
  {
   "cell_type": "code",
   "execution_count": 10,
   "metadata": {},
   "outputs": [
    {
     "data": {
      "text/plain": [
       "brewery_id              int64\n",
       "brewery_name           object\n",
       "review_time             int64\n",
       "review_overall        float64\n",
       "review_aroma          float64\n",
       "review_appearance     float64\n",
       "review_profilename     object\n",
       "beer_style             object\n",
       "review_palate         float64\n",
       "review_taste          float64\n",
       "beer_name              object\n",
       "beer_abv              float64\n",
       "beer_beerid             int64\n",
       "dtype: object"
      ]
     },
     "execution_count": 10,
     "metadata": {},
     "output_type": "execute_result"
    }
   ],
   "source": [
    "review_df.dtypes # Col-types"
   ]
  },
  {
   "cell_type": "code",
   "execution_count": 11,
   "metadata": {},
   "outputs": [
    {
     "name": "stdout",
     "output_type": "stream",
     "text": [
      "<class 'pandas.core.frame.DataFrame'>\n",
      "RangeIndex: 1586614 entries, 0 to 1586613\n",
      "Data columns (total 13 columns):\n",
      "brewery_id            1586614 non-null int64\n",
      "brewery_name          1586599 non-null object\n",
      "review_time           1586614 non-null int64\n",
      "review_overall        1586614 non-null float64\n",
      "review_aroma          1586614 non-null float64\n",
      "review_appearance     1586614 non-null float64\n",
      "review_profilename    1586266 non-null object\n",
      "beer_style            1586614 non-null object\n",
      "review_palate         1586614 non-null float64\n",
      "review_taste          1586614 non-null float64\n",
      "beer_name             1586614 non-null object\n",
      "beer_abv              1518829 non-null float64\n",
      "beer_beerid           1586614 non-null int64\n",
      "dtypes: float64(6), int64(3), object(4)\n",
      "memory usage: 565.4 MB\n"
     ]
    }
   ],
   "source": [
    "# .info() method gives a pretty good idea of the footprint\n",
    "\n",
    "review_df.info(memory_usage='deep')\n"
   ]
  },
  {
   "cell_type": "code",
   "execution_count": 12,
   "metadata": {},
   "outputs": [
    {
     "name": "stdout",
     "output_type": "stream",
     "text": [
      "36.31 MB\n",
      "15.13 MB\n"
     ]
    }
   ],
   "source": [
    "# Function to compute mem usage of pandas objects\n",
    "\n",
    "def mem_usage(pandas_obj):\n",
    "    if isinstance(pandas_obj,pd.DataFrame):\n",
    "        usage_b = pandas_obj.memory_usage(deep=True).sum()\n",
    "    else: # we assume if not a df it's a series\n",
    "        usage_b = pandas_obj.memory_usage(deep=True)\n",
    "    usage_mb = usage_b / 1024 ** 2 # convert bytes to megabytes\n",
    "    return \"{:03.2f} MB\".format(usage_mb)\n",
    "\n",
    "# ------------------------------------------------------------------------------------\n",
    "\n",
    "#  pd.to_numeric() to downcast  numeric types. and DataFrame.select_dtypes to select only the integer columns\n",
    "\n",
    "review_df_int = review_df.select_dtypes(include=['int'])\n",
    "review_df_int_reduced = review_df_int.apply(pd.to_numeric,downcast='unsigned')\n",
    "\n",
    "\n",
    "# size halved !\n",
    "print(mem_usage(review_df_int))\n",
    "print(mem_usage(review_df_int_reduced)) \n"
   ]
  },
  {
   "cell_type": "code",
   "execution_count": 13,
   "metadata": {},
   "outputs": [],
   "source": [
    "# perform same thing with the float columns. (50% reduction in size.)\n",
    "\n",
    "review_df_float = review_df.select_dtypes(include=['float'])\n",
    "review_df_float_reduced = review_df_float.apply(pd.to_numeric,downcast='float')\n"
   ]
  },
  {
   "cell_type": "markdown",
   "metadata": {},
   "source": [
    "as for object dtypes, you have to be careful, it may be tempting to convert them to categorical type but the memory optimization is only worth it if the resulting categorical variable does not have `High Cardinality`, (too many unique values are bad for mem optimization of this kind)"
   ]
  },
  {
   "cell_type": "code",
   "execution_count": 14,
   "metadata": {},
   "outputs": [
    {
     "data": {
      "text/html": [
       "<div>\n",
       "<style scoped>\n",
       "    .dataframe tbody tr th:only-of-type {\n",
       "        vertical-align: middle;\n",
       "    }\n",
       "\n",
       "    .dataframe tbody tr th {\n",
       "        vertical-align: top;\n",
       "    }\n",
       "\n",
       "    .dataframe thead th {\n",
       "        text-align: right;\n",
       "    }\n",
       "</style>\n",
       "<table border=\"1\" class=\"dataframe\">\n",
       "  <thead>\n",
       "    <tr style=\"text-align: right;\">\n",
       "      <th></th>\n",
       "      <th>brewery_name</th>\n",
       "      <th>review_profilename</th>\n",
       "      <th>beer_style</th>\n",
       "      <th>beer_name</th>\n",
       "    </tr>\n",
       "  </thead>\n",
       "  <tbody>\n",
       "    <tr>\n",
       "      <th>count</th>\n",
       "      <td>1586599</td>\n",
       "      <td>1586266</td>\n",
       "      <td>1586614</td>\n",
       "      <td>1586614</td>\n",
       "    </tr>\n",
       "    <tr>\n",
       "      <th>unique</th>\n",
       "      <td>5742</td>\n",
       "      <td>33387</td>\n",
       "      <td>104</td>\n",
       "      <td>56857</td>\n",
       "    </tr>\n",
       "    <tr>\n",
       "      <th>top</th>\n",
       "      <td>Boston Beer Company (Samuel Adams)</td>\n",
       "      <td>northyorksammy</td>\n",
       "      <td>American IPA</td>\n",
       "      <td>90 Minute IPA</td>\n",
       "    </tr>\n",
       "    <tr>\n",
       "      <th>freq</th>\n",
       "      <td>39444</td>\n",
       "      <td>5817</td>\n",
       "      <td>117586</td>\n",
       "      <td>3290</td>\n",
       "    </tr>\n",
       "  </tbody>\n",
       "</table>\n",
       "</div>"
      ],
      "text/plain": [
       "                              brewery_name review_profilename    beer_style  \\\n",
       "count                              1586599            1586266       1586614   \n",
       "unique                                5742              33387           104   \n",
       "top     Boston Beer Company (Samuel Adams)     northyorksammy  American IPA   \n",
       "freq                                 39444               5817        117586   \n",
       "\n",
       "            beer_name  \n",
       "count         1586614  \n",
       "unique          56857  \n",
       "top     90 Minute IPA  \n",
       "freq             3290  "
      ]
     },
     "execution_count": 14,
     "metadata": {},
     "output_type": "execute_result"
    }
   ],
   "source": [
    "# gives us an idea of the possible categorical conversions\n",
    "\n",
    "review_df_obj = review_df.select_dtypes(include=['object']).copy()\n",
    "review_df_obj.describe()"
   ]
  },
  {
   "cell_type": "code",
   "execution_count": 15,
   "metadata": {},
   "outputs": [
    {
     "name": "stdout",
     "output_type": "stream",
     "text": [
      "458.86 MB\n",
      "27.40 MB\n",
      "Mem reduced by :94.0286797716079% !\n"
     ]
    }
   ],
   "source": [
    "#fucntion to check if the number of unique values is less than 20%, and if so, convert it to the category type\n",
    "\n",
    "review_df_obj_reduced = pd.DataFrame()\n",
    "for col in review_df_obj.columns:\n",
    "    num_unique_values = len(review_df_obj[col].unique())\n",
    "    num_total_values = len(review_df_obj[col])\n",
    "    if num_unique_values / num_total_values < 0.2:\n",
    "        review_df_obj_reduced.loc[:,col] = review_df_obj[col].astype('category')\n",
    "    else:\n",
    "        review_df_obj_reduced.loc[:,col] = review_df_obj[col]\n",
    "\n",
    "\n",
    "\n",
    "print(mem_usage(review_df_obj))\n",
    "print(mem_usage(review_df_obj_reduced))\n",
    "# 94.02% Reduction in mem usage !\n",
    "\n",
    "print(\"Mem reduced by :\" +str(((458.86-27.40)/458.86)*100)+\"% !\")\n"
   ]
  },
  {
   "cell_type": "code",
   "execution_count": 30,
   "metadata": {},
   "outputs": [
    {
     "name": "stdout",
     "output_type": "stream",
     "text": [
      "Original df : 567.80 MB\n",
      "Optimized DF : 78.85 MB\n"
     ]
    }
   ],
   "source": [
    "# Applying Mem optimizations\n",
    "\n",
    "optimized_df = review_df.copy()\n",
    "\n",
    "optimized_df[review_df_int_reduced.columns] = review_df_int_reduced\n",
    "optimized_df[review_df_float_reduced.columns] = review_df_float_reduced\n",
    "optimized_df[review_df_obj_reduced.columns] = review_df_obj_reduced\n",
    "\n",
    "print(\"Original df : \" +mem_usage(review_df))\n",
    "print(\"Optimized DF : \"+ mem_usage(optimized_df))"
   ]
  },
  {
   "cell_type": "markdown",
   "metadata": {},
   "source": [
    "By using simple techniques like :\n",
    "\n",
    "    - Downcasting numeric columns to more efficient types.\n",
    "    - Converting appropriate string columns to the categorical type.\n",
    "    \n",
    " >A lot of the memory overhead was removed and the new data frame is much lighter than the original one ( by `86%!`). Which is why I find it so crucial.\n",
    "\n",
    "\n"
   ]
  },
  {
   "cell_type": "code",
   "execution_count": 17,
   "metadata": {},
   "outputs": [
    {
     "data": {
      "text/html": [
       "<div>\n",
       "<style scoped>\n",
       "    .dataframe tbody tr th:only-of-type {\n",
       "        vertical-align: middle;\n",
       "    }\n",
       "\n",
       "    .dataframe tbody tr th {\n",
       "        vertical-align: top;\n",
       "    }\n",
       "\n",
       "    .dataframe thead th {\n",
       "        text-align: right;\n",
       "    }\n",
       "</style>\n",
       "<table border=\"1\" class=\"dataframe\">\n",
       "  <thead>\n",
       "    <tr style=\"text-align: right;\">\n",
       "      <th></th>\n",
       "      <th>brewery_id</th>\n",
       "      <th>brewery_name</th>\n",
       "      <th>review_time</th>\n",
       "      <th>review_overall</th>\n",
       "      <th>review_aroma</th>\n",
       "      <th>review_appearance</th>\n",
       "      <th>review_profilename</th>\n",
       "      <th>beer_style</th>\n",
       "      <th>review_palate</th>\n",
       "      <th>review_taste</th>\n",
       "      <th>beer_name</th>\n",
       "      <th>beer_abv</th>\n",
       "      <th>beer_beerid</th>\n",
       "    </tr>\n",
       "  </thead>\n",
       "  <tbody>\n",
       "    <tr>\n",
       "      <th>0</th>\n",
       "      <td>10325</td>\n",
       "      <td>Vecchio Birraio</td>\n",
       "      <td>1234817823</td>\n",
       "      <td>1.5</td>\n",
       "      <td>2.0</td>\n",
       "      <td>2.5</td>\n",
       "      <td>stcules</td>\n",
       "      <td>Hefeweizen</td>\n",
       "      <td>1.5</td>\n",
       "      <td>1.5</td>\n",
       "      <td>Sausa Weizen</td>\n",
       "      <td>5.0</td>\n",
       "      <td>47986</td>\n",
       "    </tr>\n",
       "    <tr>\n",
       "      <th>1</th>\n",
       "      <td>10325</td>\n",
       "      <td>Vecchio Birraio</td>\n",
       "      <td>1235915097</td>\n",
       "      <td>3.0</td>\n",
       "      <td>2.5</td>\n",
       "      <td>3.0</td>\n",
       "      <td>stcules</td>\n",
       "      <td>English Strong Ale</td>\n",
       "      <td>3.0</td>\n",
       "      <td>3.0</td>\n",
       "      <td>Red Moon</td>\n",
       "      <td>6.2</td>\n",
       "      <td>48213</td>\n",
       "    </tr>\n",
       "    <tr>\n",
       "      <th>2</th>\n",
       "      <td>10325</td>\n",
       "      <td>Vecchio Birraio</td>\n",
       "      <td>1235916604</td>\n",
       "      <td>3.0</td>\n",
       "      <td>2.5</td>\n",
       "      <td>3.0</td>\n",
       "      <td>stcules</td>\n",
       "      <td>Foreign / Export Stout</td>\n",
       "      <td>3.0</td>\n",
       "      <td>3.0</td>\n",
       "      <td>Black Horse Black Beer</td>\n",
       "      <td>6.5</td>\n",
       "      <td>48215</td>\n",
       "    </tr>\n",
       "    <tr>\n",
       "      <th>3</th>\n",
       "      <td>10325</td>\n",
       "      <td>Vecchio Birraio</td>\n",
       "      <td>1234725145</td>\n",
       "      <td>3.0</td>\n",
       "      <td>3.0</td>\n",
       "      <td>3.5</td>\n",
       "      <td>stcules</td>\n",
       "      <td>German Pilsener</td>\n",
       "      <td>2.5</td>\n",
       "      <td>3.0</td>\n",
       "      <td>Sausa Pils</td>\n",
       "      <td>5.0</td>\n",
       "      <td>47969</td>\n",
       "    </tr>\n",
       "    <tr>\n",
       "      <th>4</th>\n",
       "      <td>1075</td>\n",
       "      <td>Caldera Brewing Company</td>\n",
       "      <td>1293735206</td>\n",
       "      <td>4.0</td>\n",
       "      <td>4.5</td>\n",
       "      <td>4.0</td>\n",
       "      <td>johnmichaelsen</td>\n",
       "      <td>American Double / Imperial IPA</td>\n",
       "      <td>4.0</td>\n",
       "      <td>4.5</td>\n",
       "      <td>Cauldron DIPA</td>\n",
       "      <td>7.7</td>\n",
       "      <td>64883</td>\n",
       "    </tr>\n",
       "  </tbody>\n",
       "</table>\n",
       "</div>"
      ],
      "text/plain": [
       "   brewery_id             brewery_name  review_time  review_overall  \\\n",
       "0       10325          Vecchio Birraio   1234817823             1.5   \n",
       "1       10325          Vecchio Birraio   1235915097             3.0   \n",
       "2       10325          Vecchio Birraio   1235916604             3.0   \n",
       "3       10325          Vecchio Birraio   1234725145             3.0   \n",
       "4        1075  Caldera Brewing Company   1293735206             4.0   \n",
       "\n",
       "   review_aroma  review_appearance review_profilename  \\\n",
       "0           2.0                2.5            stcules   \n",
       "1           2.5                3.0            stcules   \n",
       "2           2.5                3.0            stcules   \n",
       "3           3.0                3.5            stcules   \n",
       "4           4.5                4.0     johnmichaelsen   \n",
       "\n",
       "                       beer_style  review_palate  review_taste  \\\n",
       "0                      Hefeweizen            1.5           1.5   \n",
       "1              English Strong Ale            3.0           3.0   \n",
       "2          Foreign / Export Stout            3.0           3.0   \n",
       "3                 German Pilsener            2.5           3.0   \n",
       "4  American Double / Imperial IPA            4.0           4.5   \n",
       "\n",
       "                beer_name  beer_abv  beer_beerid  \n",
       "0            Sausa Weizen       5.0        47986  \n",
       "1                Red Moon       6.2        48213  \n",
       "2  Black Horse Black Beer       6.5        48215  \n",
       "3              Sausa Pils       5.0        47969  \n",
       "4           Cauldron DIPA       7.7        64883  "
      ]
     },
     "execution_count": 17,
     "metadata": {},
     "output_type": "execute_result"
    }
   ],
   "source": [
    "optimized_df.head()"
   ]
  },
  {
   "cell_type": "markdown",
   "metadata": {},
   "source": [
    "-------------------------------------------------------\n",
    "\n",
    "## 3. Exploratory Data Analysis [EDA]\n",
    "\n"
   ]
  },
  {
   "cell_type": "code",
   "execution_count": 31,
   "metadata": {},
   "outputs": [
    {
     "data": {
      "text/html": [
       "<div>\n",
       "<style scoped>\n",
       "    .dataframe tbody tr th:only-of-type {\n",
       "        vertical-align: middle;\n",
       "    }\n",
       "\n",
       "    .dataframe tbody tr th {\n",
       "        vertical-align: top;\n",
       "    }\n",
       "\n",
       "    .dataframe thead th {\n",
       "        text-align: right;\n",
       "    }\n",
       "</style>\n",
       "<table border=\"1\" class=\"dataframe\">\n",
       "  <thead>\n",
       "    <tr style=\"text-align: right;\">\n",
       "      <th></th>\n",
       "      <th>brewery_id</th>\n",
       "      <th>brewery_name</th>\n",
       "      <th>review_time</th>\n",
       "      <th>review_overall</th>\n",
       "      <th>review_aroma</th>\n",
       "      <th>review_appearance</th>\n",
       "      <th>review_profilename</th>\n",
       "      <th>beer_style</th>\n",
       "      <th>review_palate</th>\n",
       "      <th>review_taste</th>\n",
       "      <th>beer_name</th>\n",
       "      <th>beer_abv</th>\n",
       "      <th>beer_beerid</th>\n",
       "    </tr>\n",
       "  </thead>\n",
       "  <tbody>\n",
       "    <tr>\n",
       "      <th>0</th>\n",
       "      <td>10325</td>\n",
       "      <td>Vecchio Birraio</td>\n",
       "      <td>2009-02-16 20:57:03</td>\n",
       "      <td>1.5</td>\n",
       "      <td>2.0</td>\n",
       "      <td>2.5</td>\n",
       "      <td>stcules</td>\n",
       "      <td>Hefeweizen</td>\n",
       "      <td>1.5</td>\n",
       "      <td>1.5</td>\n",
       "      <td>Sausa Weizen</td>\n",
       "      <td>5.0</td>\n",
       "      <td>47986</td>\n",
       "    </tr>\n",
       "    <tr>\n",
       "      <th>1</th>\n",
       "      <td>10325</td>\n",
       "      <td>Vecchio Birraio</td>\n",
       "      <td>2009-03-01 13:44:57</td>\n",
       "      <td>3.0</td>\n",
       "      <td>2.5</td>\n",
       "      <td>3.0</td>\n",
       "      <td>stcules</td>\n",
       "      <td>English Strong Ale</td>\n",
       "      <td>3.0</td>\n",
       "      <td>3.0</td>\n",
       "      <td>Red Moon</td>\n",
       "      <td>6.2</td>\n",
       "      <td>48213</td>\n",
       "    </tr>\n",
       "    <tr>\n",
       "      <th>2</th>\n",
       "      <td>10325</td>\n",
       "      <td>Vecchio Birraio</td>\n",
       "      <td>2009-03-01 14:10:04</td>\n",
       "      <td>3.0</td>\n",
       "      <td>2.5</td>\n",
       "      <td>3.0</td>\n",
       "      <td>stcules</td>\n",
       "      <td>Foreign / Export Stout</td>\n",
       "      <td>3.0</td>\n",
       "      <td>3.0</td>\n",
       "      <td>Black Horse Black Beer</td>\n",
       "      <td>6.5</td>\n",
       "      <td>48215</td>\n",
       "    </tr>\n",
       "    <tr>\n",
       "      <th>3</th>\n",
       "      <td>10325</td>\n",
       "      <td>Vecchio Birraio</td>\n",
       "      <td>2009-02-15 19:12:25</td>\n",
       "      <td>3.0</td>\n",
       "      <td>3.0</td>\n",
       "      <td>3.5</td>\n",
       "      <td>stcules</td>\n",
       "      <td>German Pilsener</td>\n",
       "      <td>2.5</td>\n",
       "      <td>3.0</td>\n",
       "      <td>Sausa Pils</td>\n",
       "      <td>5.0</td>\n",
       "      <td>47969</td>\n",
       "    </tr>\n",
       "    <tr>\n",
       "      <th>4</th>\n",
       "      <td>1075</td>\n",
       "      <td>Caldera Brewing Company</td>\n",
       "      <td>2010-12-30 18:53:26</td>\n",
       "      <td>4.0</td>\n",
       "      <td>4.5</td>\n",
       "      <td>4.0</td>\n",
       "      <td>johnmichaelsen</td>\n",
       "      <td>American Double / Imperial IPA</td>\n",
       "      <td>4.0</td>\n",
       "      <td>4.5</td>\n",
       "      <td>Cauldron DIPA</td>\n",
       "      <td>7.7</td>\n",
       "      <td>64883</td>\n",
       "    </tr>\n",
       "  </tbody>\n",
       "</table>\n",
       "</div>"
      ],
      "text/plain": [
       "   brewery_id             brewery_name         review_time  review_overall  \\\n",
       "0       10325          Vecchio Birraio 2009-02-16 20:57:03             1.5   \n",
       "1       10325          Vecchio Birraio 2009-03-01 13:44:57             3.0   \n",
       "2       10325          Vecchio Birraio 2009-03-01 14:10:04             3.0   \n",
       "3       10325          Vecchio Birraio 2009-02-15 19:12:25             3.0   \n",
       "4        1075  Caldera Brewing Company 2010-12-30 18:53:26             4.0   \n",
       "\n",
       "   review_aroma  review_appearance review_profilename  \\\n",
       "0           2.0                2.5            stcules   \n",
       "1           2.5                3.0            stcules   \n",
       "2           2.5                3.0            stcules   \n",
       "3           3.0                3.5            stcules   \n",
       "4           4.5                4.0     johnmichaelsen   \n",
       "\n",
       "                       beer_style  review_palate  review_taste  \\\n",
       "0                      Hefeweizen            1.5           1.5   \n",
       "1              English Strong Ale            3.0           3.0   \n",
       "2          Foreign / Export Stout            3.0           3.0   \n",
       "3                 German Pilsener            2.5           3.0   \n",
       "4  American Double / Imperial IPA            4.0           4.5   \n",
       "\n",
       "                beer_name  beer_abv  beer_beerid  \n",
       "0            Sausa Weizen       5.0        47986  \n",
       "1                Red Moon       6.2        48213  \n",
       "2  Black Horse Black Beer       6.5        48215  \n",
       "3              Sausa Pils       5.0        47969  \n",
       "4           Cauldron DIPA       7.7        64883  "
      ]
     },
     "execution_count": 31,
     "metadata": {},
     "output_type": "execute_result"
    }
   ],
   "source": [
    "# First converting review_time col to date-time column.\n",
    "\n",
    "optimized_df[ 'review_time' ] = pd.to_datetime( optimized_df[ 'review_time' ], unit = 's' )\n",
    "\n",
    "optimized_df.head()"
   ]
  },
  {
   "cell_type": "markdown",
   "metadata": {
    "colab_type": "text",
    "id": "gqn_StCuGGSq"
   },
   "source": [
    "#### *3.1 Missing Value Checks.*"
   ]
  },
  {
   "cell_type": "code",
   "execution_count": 35,
   "metadata": {
    "colab": {
     "base_uri": "https://localhost:8080/",
     "height": 255
    },
    "colab_type": "code",
    "id": "W6oqkYMmGGSr",
    "outputId": "b0a0866e-73b5-4ec4-a6aa-2e63ec8c7d4c"
   },
   "outputs": [
    {
     "name": "stdout",
     "output_type": "stream",
     "text": [
      "brewery_id                0\n",
      "brewery_name             15\n",
      "review_time               0\n",
      "review_overall            0\n",
      "review_aroma              0\n",
      "review_appearance         0\n",
      "review_profilename      348\n",
      "beer_style                0\n",
      "review_palate             0\n",
      "review_taste              0\n",
      "beer_name                 0\n",
      "beer_abv              67785\n",
      "beer_beerid               0\n",
      "dtype: int64\n",
      "Highest Percent Null Values of `beer_abv` column: 4.27 %\n"
     ]
    }
   ],
   "source": [
    "# Checking for null values\n",
    "print(optimized_df.isnull().sum())\n",
    "\n",
    "# Percent of data missing `beer_abv` values\n",
    "print(\"Highest Percent Null Values of `beer_abv` column:\", round(67785 / 1586614 * 100, 2),\"%\")"
   ]
  },
  {
   "cell_type": "markdown",
   "metadata": {
    "colab_type": "text",
    "id": "1CqCvv5HGGSw"
   },
   "source": [
    "#### _3.2 Drop Null Values_"
   ]
  },
  {
   "cell_type": "code",
   "execution_count": 21,
   "metadata": {
    "colab": {
     "base_uri": "https://localhost:8080/",
     "height": 323
    },
    "colab_type": "code",
    "id": "blH2PqImGGSx",
    "outputId": "a2c2e825-dec1-4cbc-8a3c-3d88fe8d4d71"
   },
   "outputs": [
    {
     "name": "stdout",
     "output_type": "stream",
     "text": [
      "<class 'pandas.core.frame.DataFrame'>\n",
      "Int64Index: 1518478 entries, 0 to 1586613\n",
      "Data columns (total 13 columns):\n",
      "brewery_id            1518478 non-null uint16\n",
      "brewery_name          1518478 non-null category\n",
      "review_time           1518478 non-null datetime64[ns]\n",
      "review_overall        1518478 non-null float32\n",
      "review_aroma          1518478 non-null float32\n",
      "review_appearance     1518478 non-null float32\n",
      "review_profilename    1518478 non-null category\n",
      "beer_style            1518478 non-null category\n",
      "review_palate         1518478 non-null float32\n",
      "review_taste          1518478 non-null float32\n",
      "beer_name             1518478 non-null category\n",
      "beer_abv              1518478 non-null float32\n",
      "beer_beerid           1518478 non-null uint32\n",
      "dtypes: category(4), datetime64[ns](1), float32(6), uint16(1), uint32(1)\n",
      "memory usage: 87.2 MB\n"
     ]
    }
   ],
   "source": [
    "# Drop null row values\n",
    "optimized_df = optimized_df.dropna()\n",
    "optimized_df.info()"
   ]
  },
  {
   "cell_type": "markdown",
   "metadata": {
    "colab_type": "text",
    "id": "AzJysbdZGGSz"
   },
   "source": [
    "> *Removing all null values only affects the size of the dataset by a little over 4%.*"
   ]
  },
  {
   "cell_type": "code",
   "execution_count": 22,
   "metadata": {
    "colab": {
     "base_uri": "https://localhost:8080/",
     "height": 255
    },
    "colab_type": "code",
    "id": "Akpm0Vb7cJqf",
    "outputId": "12b6028a-f687-4744-eacc-58653abf25fe"
   },
   "outputs": [
    {
     "name": "stdout",
     "output_type": "stream",
     "text": [
      "brewery_id            0\n",
      "brewery_name          0\n",
      "review_time           0\n",
      "review_overall        0\n",
      "review_aroma          0\n",
      "review_appearance     0\n",
      "review_profilename    0\n",
      "beer_style            0\n",
      "review_palate         0\n",
      "review_taste          0\n",
      "beer_name             0\n",
      "beer_abv              0\n",
      "beer_beerid           0\n",
      "dtype: int64\n"
     ]
    }
   ],
   "source": [
    "# Check for null values\n",
    "print(optimized_df.isnull().sum())"
   ]
  },
  {
   "cell_type": "markdown",
   "metadata": {
    "colab_type": "text",
    "id": "kkUG9w1GGGS0"
   },
   "source": [
    "#### _3.3 Duplicate Data Handling_\n",
    "\n",
    "If a user has rated the same beer more than once, then only keep their highest rating."
   ]
  },
  {
   "cell_type": "code",
   "execution_count": 23,
   "metadata": {
    "colab": {
     "base_uri": "https://localhost:8080/",
     "height": 340
    },
    "colab_type": "code",
    "id": "waCXztAWGGS1",
    "outputId": "3f83f5a2-2be2-47bd-cd1e-b382ce3eb18e"
   },
   "outputs": [
    {
     "name": "stdout",
     "output_type": "stream",
     "text": [
      "<class 'pandas.core.frame.DataFrame'>\n",
      "Int64Index: 1496263 entries, 1586613 to 39648\n",
      "Data columns (total 13 columns):\n",
      "brewery_id            1496263 non-null uint16\n",
      "brewery_name          1496263 non-null category\n",
      "review_time           1496263 non-null datetime64[ns]\n",
      "review_overall        1496263 non-null float32\n",
      "review_aroma          1496263 non-null float32\n",
      "review_appearance     1496263 non-null float32\n",
      "review_profilename    1496263 non-null category\n",
      "beer_style            1496263 non-null category\n",
      "review_palate         1496263 non-null float32\n",
      "review_taste          1496263 non-null float32\n",
      "beer_name             1496263 non-null category\n",
      "beer_abv              1496263 non-null float32\n",
      "beer_beerid           1496263 non-null uint32\n",
      "dtypes: category(4), datetime64[ns](1), float32(6), uint16(1), uint32(1)\n",
      "memory usage: 86.0 MB\n",
      "Percent of Duplicate Values: 1.46 %\n"
     ]
    }
   ],
   "source": [
    "# Sort by user overall rating first\n",
    "optimized_df = optimized_df.sort_values('review_overall', ascending=False)\n",
    "\n",
    "# Keep the highest rating from each user and drop the rest \n",
    "optimized_df = optimized_df.drop_duplicates(subset= ['review_profilename','beer_name'], keep='first')\n",
    "\n",
    "optimized_df.info()\n",
    "\n",
    "# Percent of data that are duplicates\n",
    "print(\"Percent of Duplicate Values:\", round((1518478 - 1496263)/ 1518478 * 100, 2),\"%\")"
   ]
  },
  {
   "cell_type": "markdown",
   "metadata": {
    "colab_type": "text",
    "id": "ivhtkdUcGGS4"
   },
   "source": [
    "> *Removing all duplicate values drops about 1.5% of the remaining data.*"
   ]
  },
  {
   "cell_type": "markdown",
   "metadata": {
    "colab_type": "text",
    "id": "nynLcw_CGGS9"
   },
   "source": [
    "#### _3.4 Overview of Numeric Features_"
   ]
  },
  {
   "cell_type": "code",
   "execution_count": 62,
   "metadata": {},
   "outputs": [
    {
     "name": "stdout",
     "output_type": "stream",
     "text": [
      "Count of Unique breweries\n",
      "By id: 5840\n",
      "By name: 5742\n",
      "\n",
      "\n",
      "Unique beers\n",
      "By id: 66055\n",
      "By name: 56857\n"
     ]
    }
   ],
   "source": [
    "# Couning unique breweries and beers reveals a disparity between brewery id and name \n",
    "print( 'Count of Unique breweries' )\n",
    "print( 'By id:', optimized_df[ 'brewery_id' ].nunique() )\n",
    "print( 'By name:', optimized_df[ 'brewery_name' ].nunique() )\n",
    "print(\"\\n\")\n",
    "print( 'Unique beers' )\n",
    "print( 'By id:', optimized_df[ 'beer_beerid' ].nunique() )\n",
    "print( 'By name:', optimized_df[ 'beer_name' ].nunique() )"
   ]
  },
  {
   "cell_type": "markdown",
   "metadata": {},
   "source": [
    "> the disparity discourages the use of id as an identifier, names should be used in that case"
   ]
  },
  {
   "cell_type": "code",
   "execution_count": 43,
   "metadata": {
    "colab": {
     "base_uri": "https://localhost:8080/",
     "height": 729
    },
    "colab_type": "code",
    "id": "PEgxQ5tmGGS-",
    "outputId": "e24fd5b7-fc3e-44f6-e02c-5c216cc6f44f"
   },
   "outputs": [
    {
     "data": {
      "image/png": "[encoded data removed]",
      "text/plain": [
       "<Figure size 864x864 with 9 Axes>"
      ]
     },
     "metadata": {},
     "output_type": "display_data"
    }
   ],
   "source": [
    "# Histograms of all numeric features\n",
    "optimized_df.hist(figsize=(12,12))\n",
    "plt.show()"
   ]
  },
  {
   "cell_type": "markdown",
   "metadata": {},
   "source": [
    "|Numeric Variable| Distribution|Interpretation|\n",
    "|---|---|---|\n",
    "|`beer_abv`| Right Skewed Distribution  | Most beers seem to have less than 20% ABV|\n",
    "|`review_aroma`| Normal | Most beers rated between 3 and 4|\n",
    "|`review_palate`|Normal| Most beers rated between 3 and 4|\n",
    "|`review_taste`|Normal| Most beers rated between 3.5 and 4.5 |\n",
    "|`review_overall`|Left Skewed Distribution| Most beers rated 4 and higher|\n",
    "|`review_appearance`| Left Skewed Distribution | Most beers rated 4 and higher|\n",
    "|`review_time`|Left Skewed Distribution| Num of beers rated vs time suggests linearity|\n",
    "\n",
    "also,\\\n",
    "\n",
    "|Numeric Variable| Distribution|Interpretation|\n",
    "|---|---|---|\n",
    "|`beer_beerid`| Right Skewed Distribution | Lower IDs have more reviews than higher IDs|\n",
    "|`brewery_id`| Right Skewed Distribution| Lower IDs have more reviews than higher IDs|\n",
    "but these may not be that useful\n",
    "\n",
    "> *Also note the existence of ratings which have a value of 0 in the* `review_overall` *&* `review_appearance` *columns.*"
   ]
  },
  {
   "cell_type": "code",
   "execution_count": 58,
   "metadata": {},
   "outputs": [
    {
     "data": {
      "image/png": "[encoded data removed]",
      "text/plain": [
       "<Figure size 576x432 with 1 Axes>"
      ]
     },
     "metadata": {},
     "output_type": "display_data"
    }
   ],
   "source": [
    "plt.figure(figsize=[8, 6])\n",
    "sns.countplot(x='review_overall', data=optimized_df, saturation=0.9)\n",
    "plt.xlabel(\"Overall Rating\")\n",
    "plt.ylabel(\"Beers\");\n",
    "\n",
    "#most beers seem to be rated in the 4 range"
   ]
  },
  {
   "cell_type": "code",
   "execution_count": 64,
   "metadata": {},
   "outputs": [
    {
     "name": "stdout",
     "output_type": "stream",
     "text": [
      "Unique users: 33387\n",
      "Unique users with more than 1 review: 22944 - 69.0%\n"
     ]
    }
   ],
   "source": [
    "# Counting the number of users that have more than 1 review.\n",
    "print( 'Unique users:', optimized_df\n",
    "[ 'review_profilename' ].nunique() )\n",
    "print( 'Unique users with more than 1 review:', optimized_df\n",
    "[ 'review_profilename' ].value_counts()[ optimized_df\n",
    "[ 'review_profilename' ].value_counts() > 1 ].shape[ 0 ], '-' , str( round( optimized_df\n",
    "[ 'review_profilename' ].value_counts()[ optimized_df\n",
    "[ 'review_profilename' ].value_counts() > 1 ].shape[ 0 ] / optimized_df\n",
    "[ 'review_profilename' ].nunique(), 2 ) * 100 ) + '%' )"
   ]
  },
  {
   "cell_type": "code",
   "execution_count": 68,
   "metadata": {},
   "outputs": [
    {
     "data": {
      "image/png": "[encoded data removed]",
      "text/plain": [
       "<Figure size 1440x360 with 1 Axes>"
      ]
     },
     "metadata": {},
     "output_type": "display_data"
    }
   ],
   "source": [
    "# Plotting Review count growth rate.\n",
    "\n",
    "group_by_date = optimized_df[[ 'review_time' ]].groupby(optimized_df['review_time'].dt.date ).agg( [ 'count' ] )\n",
    "plt.figure( figsize = ( 20, 5 ) )\n",
    "plt.plot( group_by_date )\n",
    "plt.xlabel( 'Date' )\n",
    "plt.ylabel( 'Number of reviews' )\n",
    "plt.title( 'Number of Reviews per Day' )\n",
    "plt.show()"
   ]
  },
  {
   "cell_type": "code",
   "execution_count": null,
   "metadata": {},
   "outputs": [],
   "source": []
  },
  {
   "cell_type": "markdown",
   "metadata": {},
   "source": [
    "## (c) Recommending 3 Beers to a buddy?\n",
    "\n",
    "Even if they were completely new to beer, A good recommendation would largely depend on the internal weightages or preferences of attributes of the beer or their likings to attributes of general drinks that the person has.\n",
    "\n",
    "Yet If i were to recommend 3 beers to someone agnostically based purely on the dataset, one of the ways to do that would be finding a well-known beer with a high rating, so that the probability that my recommendations suceesful increases since the recommendations are drawn from data that resonates with the choices of the population. Instead of a beer that may be good but may not be publically popular due to my own bias\n"
   ]
  },
  {
   "cell_type": "code",
   "execution_count": 73,
   "metadata": {},
   "outputs": [
    {
     "data": {
      "text/html": [
       "<div>\n",
       "<style scoped>\n",
       "    .dataframe tbody tr th:only-of-type {\n",
       "        vertical-align: middle;\n",
       "    }\n",
       "\n",
       "    .dataframe tbody tr th {\n",
       "        vertical-align: top;\n",
       "    }\n",
       "\n",
       "    .dataframe thead th {\n",
       "        text-align: right;\n",
       "    }\n",
       "</style>\n",
       "<table border=\"1\" class=\"dataframe\">\n",
       "  <thead>\n",
       "    <tr style=\"text-align: right;\">\n",
       "      <th></th>\n",
       "      <th>beer_name</th>\n",
       "      <th>review_overall_count</th>\n",
       "      <th>review_overall_mean</th>\n",
       "      <th>review_overall_median</th>\n",
       "    </tr>\n",
       "  </thead>\n",
       "  <tbody>\n",
       "    <tr>\n",
       "      <th>36868</th>\n",
       "      <td>Old Rasputin Russian Imperial Stout</td>\n",
       "      <td>3111</td>\n",
       "      <td>4.174221</td>\n",
       "      <td>4.0</td>\n",
       "    </tr>\n",
       "    <tr>\n",
       "      <th>45811</th>\n",
       "      <td>Sierra Nevada Celebration Ale</td>\n",
       "      <td>3000</td>\n",
       "      <td>4.168667</td>\n",
       "      <td>4.0</td>\n",
       "    </tr>\n",
       "    <tr>\n",
       "      <th>900</th>\n",
       "      <td>90 Minute IPA</td>\n",
       "      <td>3290</td>\n",
       "      <td>4.145745</td>\n",
       "      <td>4.0</td>\n",
       "    </tr>\n",
       "  </tbody>\n",
       "</table>\n",
       "</div>"
      ],
      "text/plain": [
       "                                 beer_name  review_overall_count  \\\n",
       "36868  Old Rasputin Russian Imperial Stout                  3111   \n",
       "45811        Sierra Nevada Celebration Ale                  3000   \n",
       "900                          90 Minute IPA                  3290   \n",
       "\n",
       "       review_overall_mean  review_overall_median  \n",
       "36868             4.174221                    4.0  \n",
       "45811             4.168667                    4.0  \n",
       "900               4.145745                    4.0  "
      ]
     },
     "execution_count": 73,
     "metadata": {},
     "output_type": "execute_result"
    }
   ],
   "source": [
    "top_3_rec = optimized_df[['beer_name','review_overall']]\\\n",
    "    .pivot_table(index=\"beer_name\", aggfunc=(\"count\",'mean','median'))\\\n",
    "    .dropna()\n",
    "\n",
    "top_3_rec.columns = top_3_rec.columns.to_series().str.join('_')\n",
    "top_3_rec.reset_index(inplace=True)\n",
    "\n",
    "#cosidering beers with more reviews\n",
    "top_3_rec = top_3_rec.query('review_overall_count >= 3000')\\\n",
    "  .sort_values('review_overall_mean', ascending=False)\\\n",
    "  .head(3)\n",
    "\n",
    "top_3_rec"
   ]
  },
  {
   "cell_type": "code",
   "execution_count": 3,
   "metadata": {
    "collapsed": false,
    "jupyter": {
     "outputs_hidden": false
    }
   },
   "outputs": [],
   "source": [
    "# New DataFrame - reviews\n",
    "reviews = data_copy['review_overall']\n",
    "\n",
    "for review in ['review_aroma', 'review_appearance', 'review_palate', 'review_taste']:\n",
    "    reviews = pd.merge(reviews, data_copy[review], how='outer')\n"
   ]
  },
  {
   "cell_type": "markdown",
   "metadata": {},
   "source": [
    "## Data Cleaning\n",
    "\n",
    "- Remove NaNs\n",
    "- Other option is to impute the data to fill holes by looking at rating for similar beer styles."
   ]
  },
  {
   "cell_type": "code",
   "execution_count": 4,
   "metadata": {
    "collapsed": false,
    "jupyter": {
     "outputs_hidden": false
    }
   },
   "outputs": [
    {
     "data": {
      "text/html": [
       "<div>\n",
       "<style>\n",
       "    .dataframe thead tr:only-child th {\n",
       "        text-align: right;\n",
       "    }\n",
       "\n",
       "    .dataframe thead th {\n",
       "        text-align: left;\n",
       "    }\n",
       "\n",
       "    .dataframe tbody tr th {\n",
       "        vertical-align: top;\n",
       "    }\n",
       "</style>\n",
       "<table border=\"1\" class=\"dataframe\">\n",
       "  <thead>\n",
       "    <tr style=\"text-align: right;\">\n",
       "      <th></th>\n",
       "      <th>beer_beerid</th>\n",
       "      <th>beer_name</th>\n",
       "      <th>beer_style</th>\n",
       "      <th>review_overall</th>\n",
       "      <th>review_aroma</th>\n",
       "      <th>review_appearance</th>\n",
       "      <th>review_palate</th>\n",
       "      <th>review_taste</th>\n",
       "    </tr>\n",
       "  </thead>\n",
       "  <tbody>\n",
       "    <tr>\n",
       "      <th>0</th>\n",
       "      <td>436</td>\n",
       "      <td>Amstel Light</td>\n",
       "      <td>Light Lager</td>\n",
       "      <td>3.0</td>\n",
       "      <td>2.0</td>\n",
       "      <td>3.0</td>\n",
       "      <td>2.5</td>\n",
       "      <td>2.5</td>\n",
       "    </tr>\n",
       "    <tr>\n",
       "      <th>1</th>\n",
       "      <td>25414</td>\n",
       "      <td>Caldera Pale Ale</td>\n",
       "      <td>American Pale Ale (APA)</td>\n",
       "      <td>4.0</td>\n",
       "      <td>3.5</td>\n",
       "      <td>3.5</td>\n",
       "      <td>4.0</td>\n",
       "      <td>4.0</td>\n",
       "    </tr>\n",
       "    <tr>\n",
       "      <th>2</th>\n",
       "      <td>57110</td>\n",
       "      <td>D.O.R.I.S. The Destroyer Double Imperial Stout</td>\n",
       "      <td>Russian Imperial Stout</td>\n",
       "      <td>4.5</td>\n",
       "      <td>4.5</td>\n",
       "      <td>4.5</td>\n",
       "      <td>5.0</td>\n",
       "      <td>5.0</td>\n",
       "    </tr>\n",
       "    <tr>\n",
       "      <th>3</th>\n",
       "      <td>1959</td>\n",
       "      <td>Farmhouse Summer Ale</td>\n",
       "      <td>American Blonde Ale</td>\n",
       "      <td>4.0</td>\n",
       "      <td>3.5</td>\n",
       "      <td>4.0</td>\n",
       "      <td>4.0</td>\n",
       "      <td>4.0</td>\n",
       "    </tr>\n",
       "    <tr>\n",
       "      <th>4</th>\n",
       "      <td>9689</td>\n",
       "      <td>White Rascal</td>\n",
       "      <td>Witbier</td>\n",
       "      <td>5.0</td>\n",
       "      <td>4.0</td>\n",
       "      <td>4.0</td>\n",
       "      <td>3.5</td>\n",
       "      <td>4.5</td>\n",
       "    </tr>\n",
       "  </tbody>\n",
       "</table>\n",
       "</div>"
      ],
      "text/plain": [
       "   beer_beerid                                       beer_name  \\\n",
       "0          436                                    Amstel Light   \n",
       "1        25414                                Caldera Pale Ale   \n",
       "2        57110  D.O.R.I.S. The Destroyer Double Imperial Stout   \n",
       "3         1959                            Farmhouse Summer Ale   \n",
       "4         9689                                    White Rascal   \n",
       "\n",
       "                beer_style  review_overall  review_aroma  review_appearance  \\\n",
       "0              Light Lager             3.0           2.0                3.0   \n",
       "1  American Pale Ale (APA)             4.0           3.5                3.5   \n",
       "2   Russian Imperial Stout             4.5           4.5                4.5   \n",
       "3      American Blonde Ale             4.0           3.5                4.0   \n",
       "4                  Witbier             5.0           4.0                4.0   \n",
       "\n",
       "   review_palate  review_taste  \n",
       "0            2.5           2.5  \n",
       "1            4.0           4.0  \n",
       "2            5.0           5.0  \n",
       "3            4.0           4.0  \n",
       "4            3.5           4.5  "
      ]
     },
     "execution_count": 4,
     "metadata": {},
     "output_type": "execute_result"
    }
   ],
   "source": [
    "reviews = reviews.dropna()\n",
    "reviews.head()"
   ]
  },
  {
   "cell_type": "markdown",
   "metadata": {},
   "source": [
    "## Visualize Data"
   ]
  },
  {
   "cell_type": "code",
   "execution_count": 5,
   "metadata": {
    "collapsed": false,
    "jupyter": {
     "outputs_hidden": false
    }
   },
   "outputs": [
    {
     "data": {
      "text/plain": [
       "<seaborn.axisgrid.PairGrid at 0x1105af6a0>"
      ]
     },
     "execution_count": 5,
     "metadata": {},
     "output_type": "execute_result"
    },
    {
     "data": {
      "image/png": "[encoded data removed]",
      "text/plain": [
       "<matplotlib.figure.Figure at 0x1105af4e0>"
      ]
     },
     "metadata": {},
     "output_type": "display_data"
    }
   ],
   "source": [
    "sns.pairplot(reviews, x_vars=['review_aroma', 'review_appearance', 'review_palate', 'review_taste'], \n",
    "             y_vars=['review_overall'], kind='reg')"
   ]
  },
  {
   "cell_type": "markdown",
   "metadata": {},
   "source": [
    "## Regression Models"
   ]
  },
  {
   "cell_type": "markdown",
   "metadata": {},
   "source": [
    "- Isolate features (X) and targets(y). \n",
    "- Features are the attributes of the beers (aroma, appearance, palate and taste) and targets are overall reviews\n",
    "- Split dats into KFolds (Bootstrapping/Cross-validation)\n",
    "- Make an ML pipeline - Standardize data and fit a model\n",
    "- Apply different regressors to compare the fits\n"
   ]
  },
  {
   "cell_type": "code",
   "execution_count": 6,
   "metadata": {
    "collapsed": false,
    "jupyter": {
     "outputs_hidden": false
    }
   },
   "outputs": [],
   "source": [
    "from sklearn.preprocessing import StandardScaler\n",
    "from sklearn.model_selection import train_test_split\n",
    "from sklearn.model_selection import cross_val_score\n",
    "from sklearn.model_selection import KFold\n",
    "from sklearn.pipeline import make_pipeline\n",
    "from sklearn.linear_model import LinearRegression\n",
    "from sklearn.linear_model import Ridge\n",
    "from sklearn.linear_model import Lasso\n",
    "from sklearn.neighbors import KNeighborsRegressor\n",
    "\n",
    "X = reviews[['review_aroma', 'review_appearance','review_palate', 'review_taste']]\n",
    "y = reviews['review_overall']"
   ]
  },
  {
   "cell_type": "markdown",
   "metadata": {},
   "source": [
    "### Instantiate multiple regression models\n",
    "- Linear Regression\n",
    "- Lasso ( with L1 penalty)\n",
    "- Ridge (with L2 penalty)\n",
    "- KNeighbors"
   ]
  },
  {
   "cell_type": "code",
   "execution_count": 7,
   "metadata": {
    "collapsed": false,
    "jupyter": {
     "outputs_hidden": false
    }
   },
   "outputs": [],
   "source": [
    "kfold = KFold(n_splits=10, shuffle=True)\n",
    "#linear = make_pipeline(StandardScaler(), LinearRegression(fit_intercept=True))\n",
    "#lasso = make_pipeline(StandardScaler(), Lasso(alpha=0.01, fit_intercept=True))\n",
    "#ridge = make_pipeline(StandardScaler(), Ridge(fit_intercept=True))\n",
    "#kneighbors = make_pipeline(StandardScaler(), KNeighborsRegressor())"
   ]
  },
  {
   "cell_type": "markdown",
   "metadata": {},
   "source": [
    "### Generate KFolds"
   ]
  },
  {
   "cell_type": "code",
   "execution_count": 8,
   "metadata": {
    "collapsed": false,
    "jupyter": {
     "outputs_hidden": false
    }
   },
   "outputs": [],
   "source": [
    "data_sets = dict()\n",
    "for split in range(10):\n",
    "    _d = dict()\n",
    "    for train_idx, test_idx in kfold.split(X):\n",
    "        _d.update({\n",
    "                'X_train' : X.iloc[train_idx],\n",
    "                'X_test': X.iloc[test_idx],\n",
    "                'y_train': y.iloc[train_idx],\n",
    "                'y_test': y.iloc[test_idx]\n",
    "            })\n",
    "    data_sets.update({\n",
    "            split : _d\n",
    "        })"
   ]
  },
  {
   "cell_type": "markdown",
   "metadata": {},
   "source": [
    "### Define Regression class \n",
    "- To wrap scikit-learn methods"
   ]
  },
  {
   "cell_type": "code",
   "execution_count": 9,
   "metadata": {
    "collapsed": true,
    "jupyter": {
     "outputs_hidden": true
    }
   },
   "outputs": [],
   "source": [
    "from sklearn import metrics\n",
    "\n",
    "class Regression:\n",
    "    def __init__(self, regressor):\n",
    "        self.regressor = regressor\n",
    "        \n",
    "    def fit(self, X, y):\n",
    "        self.regressor.fit(X, y) \n",
    "\n",
    "    def predict(self, X, y):\n",
    "        return self.regressor.predict(X)\n",
    "    \n",
    "    def score(self, X, y):\n",
    "        return self.regressor.score(X, y)\n",
    "\n",
    "    def mean_squared_error(self, X, y):\n",
    "        return metrics.mean_squared_error(self.predict(X,y), y)\n",
    "    \n",
    "    def accuracy(self, X,y):\n",
    "        return metrics.r2_score(self.predict(X,y), y)"
   ]
  },
  {
   "cell_type": "markdown",
   "metadata": {},
   "source": [
    "### Define some utility functions\n",
    "- model_fit: Fits a regression model using one of the pipelines defined above\n",
    "- averaged_params: Fit a linear model for each data set generated by KFold splits\n",
    "- compute_averages: Compute averages of coefficeints, error and score over KFolds"
   ]
  },
  {
   "cell_type": "code",
   "execution_count": 10,
   "metadata": {
    "collapsed": false,
    "jupyter": {
     "outputs_hidden": false
    }
   },
   "outputs": [],
   "source": [
    "def model_fit(data_set, regressor):\n",
    "    params = dict()\n",
    "    regressor.fit(data_set['X_train'], data_set['y_train'])\n",
    "    neighbors = True if 'neighbors' in regressor.regressor.steps[1][0] else False\n",
    "    params.update({\n",
    "            'coeffs' : [0.0] if neighbors else regressor.regressor.steps[1][1].coef_,\n",
    "            'intercept': [0.0] if neighbors else regressor.regressor.steps[1][1].intercept_,\n",
    "            'mean_sq_error': regressor.mean_squared_error(data_set['X_train'], data_set['y_train']),\n",
    "            'accuracy': regressor.accuracy(data_set['X_test'], data_set['y_test'])\n",
    "        })\n",
    "    #print (params)\n",
    "    return params\n",
    "    \n",
    "def compute_averages(list_of_dicts):\n",
    "    averaged_params = dict()\n",
    "    for set_key in list_of_dicts[0].keys():\n",
    "        _list = [val for obj in list_of_dicts for key, val in obj.items() if key == set_key]\n",
    "        if isinstance(_list[0], dict):\n",
    "            averaged_params[set_key] = compute_averages(_list)\n",
    "        elif isinstance(_list[0], list) or isinstance(_list[0], np.ndarray):\n",
    "            if isinstance(_list[0][0], dict):\n",
    "                sub_list = [[_list[i][j] for i in range(len(_list))] for j in range(len(_list[0]))]\n",
    "                averaged_params[set_key] = [compute_averages(x) for x in sub_list]\n",
    "            else:\n",
    "                averaged_params[set_key] = np.round(np.average(np.array(_list), axis=0), 3)\n",
    "        elif isinstance(_list[0], float) or isinstance(_list[0], int):\n",
    "            averaged_params[set_key] = np.round(np.average(np.array(_list)), 3)\n",
    "        else:\n",
    "            pass\n",
    "    return averaged_params\n",
    "\n",
    "def averaged_params(regressor):\n",
    "    multiple_params = list()\n",
    "    for set_key, value in data_sets.items():\n",
    "        multiple_params.append({\n",
    "                set_key: model_fit(value, regressor)\n",
    "            })\n",
    "    return compute_averages(multiple_params)"
   ]
  },
  {
   "cell_type": "markdown",
   "metadata": {},
   "source": [
    "### Linear Regression"
   ]
  },
  {
   "cell_type": "code",
   "execution_count": 11,
   "metadata": {
    "collapsed": false,
    "jupyter": {
     "outputs_hidden": false
    }
   },
   "outputs": [
    {
     "data": {
      "text/plain": [
       "{0: {'accuracy': 0.501,\n",
       "  'coeffs': array([ 0.04 ,  0.014,  0.161,  0.356]),\n",
       "  'intercept': 3.823,\n",
       "  'mean_sq_error': 0.151}}"
      ]
     },
     "execution_count": 11,
     "metadata": {},
     "output_type": "execute_result"
    }
   ],
   "source": [
    "# Linear Regression Pipeline\n",
    "linear = make_pipeline(StandardScaler(), LinearRegression(fit_intercept=True))\n",
    "regressor = Regression(linear)\n",
    "\n",
    "# Averaged Model Parameters over 5 splits (or 5-fold cross-validation) \n",
    "averaged_params(regressor)"
   ]
  },
  {
   "cell_type": "markdown",
   "metadata": {},
   "source": [
    "### Lasso (Regularization - L1 Penalty)"
   ]
  },
  {
   "cell_type": "code",
   "execution_count": 12,
   "metadata": {
    "collapsed": false,
    "jupyter": {
     "outputs_hidden": false
    }
   },
   "outputs": [
    {
     "name": "stdout",
     "output_type": "stream",
     "text": [
      "Lasso: alpha =  1.0\n",
      "{0: {'coeffs': array([ 0.,  0.,  0.,  0.]), 'intercept': 3.823, 'accuracy': -2.6980869800436656e+29, 'mean_sq_error': 0.42199999999999999}}\n",
      "**********************\n",
      "Lasso: alpha =  0.1\n",
      "{0: {'coeffs': array([ 0.   ,  0.   ,  0.116,  0.322]), 'intercept': 3.823, 'accuracy': 0.071999999999999995, 'mean_sq_error': 0.16400000000000001}}\n",
      "**********************\n",
      "Lasso: alpha =  0.01\n",
      "{0: {'coeffs': array([ 0.036,  0.009,  0.158,  0.354]), 'intercept': 3.823, 'accuracy': 0.47199999999999998, 'mean_sq_error': 0.151}}\n",
      "**********************\n",
      "Lasso: alpha =  0.001\n",
      "{0: {'coeffs': array([ 0.04 ,  0.014,  0.161,  0.356]), 'intercept': 3.823, 'accuracy': 0.498, 'mean_sq_error': 0.151}}\n",
      "**********************\n"
     ]
    }
   ],
   "source": [
    "# Lasso Regression Pipeline\n",
    "for alpha in [1.0, 0.1, 0.01, 0.001]:\n",
    "    lasso = make_pipeline(StandardScaler(), Lasso(alpha=alpha, fit_intercept=True))\n",
    "    regressor = Regression(lasso)\n",
    "    print (\"Lasso: alpha = \", alpha)\n",
    "    print (averaged_params(regressor))\n",
    "    print ('**********************')"
   ]
  },
  {
   "cell_type": "markdown",
   "metadata": {},
   "source": [
    "### Ridge (Regularization - L2 Penalty)"
   ]
  },
  {
   "cell_type": "code",
   "execution_count": 13,
   "metadata": {
    "collapsed": false,
    "jupyter": {
     "outputs_hidden": false
    }
   },
   "outputs": [
    {
     "name": "stdout",
     "output_type": "stream",
     "text": [
      "Ridge: alpha =  1.0\n",
      "{0: {'coeffs': array([ 0.04 ,  0.014,  0.161,  0.356]), 'intercept': 3.823, 'accuracy': 0.501, 'mean_sq_error': 0.151}}\n",
      "**********************\n",
      "Ridge: alpha =  0.1\n",
      "{0: {'coeffs': array([ 0.04 ,  0.014,  0.161,  0.356]), 'intercept': 3.823, 'accuracy': 0.501, 'mean_sq_error': 0.151}}\n",
      "**********************\n",
      "Ridge: alpha =  0.01\n",
      "{0: {'coeffs': array([ 0.04 ,  0.014,  0.161,  0.356]), 'intercept': 3.823, 'accuracy': 0.501, 'mean_sq_error': 0.151}}\n",
      "**********************\n",
      "Ridge: alpha =  0.001\n",
      "{0: {'coeffs': array([ 0.04 ,  0.014,  0.161,  0.356]), 'intercept': 3.823, 'accuracy': 0.501, 'mean_sq_error': 0.151}}\n",
      "**********************\n"
     ]
    }
   ],
   "source": [
    "# Ridge Regression Pipeline\n",
    "for alpha in [1.0, 0.1, 0.01, 0.001]:\n",
    "    ridge = make_pipeline(StandardScaler(), Ridge(alpha=alpha, fit_intercept=True))\n",
    "    regressor = Regression(ridge)\n",
    "    print (\"Ridge: alpha = \", alpha)\n",
    "    print (averaged_params(regressor))\n",
    "    print ('**********************')"
   ]
  },
  {
   "cell_type": "markdown",
   "metadata": {},
   "source": [
    "### KNeighbors"
   ]
  },
  {
   "cell_type": "code",
   "execution_count": 15,
   "metadata": {
    "collapsed": false,
    "jupyter": {
     "outputs_hidden": false
    }
   },
   "outputs": [
    {
     "name": "stdout",
     "output_type": "stream",
     "text": [
      "KNeighbors: neighbors =  1\n",
      "{0: {'coeffs': array([ 0.]), 'intercept': array([ 0.]), 'accuracy': 0.34699999999999998, 'mean_sq_error': 0.32600000000000001}}\n",
      "**********************\n",
      "KNeighbors: neighbors =  2\n",
      "{0: {'coeffs': array([ 0.]), 'intercept': array([ 0.]), 'accuracy': 0.27700000000000002, 'mean_sq_error': 0.17799999999999999}}\n",
      "**********************\n",
      "KNeighbors: neighbors =  3\n",
      "{0: {'coeffs': array([ 0.]), 'intercept': array([ 0.]), 'accuracy': 0.312, 'mean_sq_error': 0.16300000000000001}}\n",
      "**********************\n",
      "KNeighbors: neighbors =  4\n",
      "{0: {'coeffs': array([ 0.]), 'intercept': array([ 0.]), 'accuracy': 0.29599999999999999, 'mean_sq_error': 0.152}}\n",
      "**********************\n",
      "KNeighbors: neighbors =  5\n",
      "{0: {'coeffs': array([ 0.]), 'intercept': array([ 0.]), 'accuracy': 0.29299999999999998, 'mean_sq_error': 0.151}}\n",
      "**********************\n",
      "KNeighbors: neighbors =  6\n",
      "{0: {'coeffs': array([ 0.]), 'intercept': array([ 0.]), 'accuracy': 0.315, 'mean_sq_error': 0.14599999999999999}}\n",
      "**********************\n",
      "KNeighbors: neighbors =  7\n",
      "{0: {'coeffs': array([ 0.]), 'intercept': array([ 0.]), 'accuracy': 0.35299999999999998, 'mean_sq_error': 0.14799999999999999}}\n",
      "**********************\n",
      "KNeighbors: neighbors =  8\n",
      "{0: {'coeffs': array([ 0.]), 'intercept': array([ 0.]), 'accuracy': 0.375, 'mean_sq_error': 0.14699999999999999}}\n",
      "**********************\n",
      "KNeighbors: neighbors =  9\n",
      "{0: {'coeffs': array([ 0.]), 'intercept': array([ 0.]), 'accuracy': 0.373, 'mean_sq_error': 0.14899999999999999}}\n",
      "**********************\n"
     ]
    }
   ],
   "source": [
    "# KNeighbors Regression Pipeline\n",
    "for neighbors in range(1,10):\n",
    "    kneighbors = make_pipeline(StandardScaler(), KNeighborsRegressor(n_neighbors=neighbors))\n",
    "    regressor = Regression(kneighbors)\n",
    "    print (\"KNeighbors: neighbors = \", neighbors)\n",
    "    print (averaged_params(regressor))\n",
    "    print ('**********************')\n",
    "    "
   ]
  },
  {
   "cell_type": "code",
   "execution_count": null,
   "metadata": {},
   "outputs": [],
   "source": []
  },
  {
   "cell_type": "code",
   "execution_count": null,
   "metadata": {},
   "outputs": [],
   "source": []
  },
  {
   "cell_type": "code",
   "execution_count": null,
   "metadata": {},
   "outputs": [],
   "source": []
  },
  {
   "cell_type": "code",
   "execution_count": null,
   "metadata": {},
   "outputs": [],
   "source": []
  },
  {
   "cell_type": "code",
   "execution_count": null,
   "metadata": {},
   "outputs": [],
   "source": [
    "# from sklearn.manifold import TSNE\n",
    "# from sklearn.preprocessing import StandardScaler\n",
    "# import plotly.offline as py\n",
    "# py.init_notebook_mode(connected=True)\n",
    "# import plotly.graph_objs as go\n",
    "# import plotly.tools as tls\n",
    "\n",
    "# tempdf =optimized_df.dropna()\n",
    "\n",
    "# X = tempdf[[\"review_aroma\",\"review_appearance\",\"review_palate\",\"review_taste\",\"beer_style\", \"beer_abv\",\"beer_name\"]].copy().dropna()\n",
    "# X[\"beer_style\"] = X[\"beer_style\"].cat.codes\n",
    "\n",
    "# x_sample = X.sample(n=1000,replace=False,random_state=123)\n",
    "\n",
    "# features = x_sample.drop(['beer_name'], axis=1)\n",
    "# Target = x_sample[\"beer_name\"]\n",
    "\n",
    "# features\n",
    "\n",
    "# X_std = StandardScaler().fit_transform(features)\n",
    "\n",
    "\n",
    "\n",
    "# tsne = TSNE()\n",
    "# tsne_results = tsne.fit_transform(X_std) \n",
    "\n",
    "\n",
    "# tsne_df = pd.DataFrame({'X':tsne_results[:,0],\n",
    "#                         'Y':tsne_results[:,1],\n",
    "#                         'beer_name':Target})\n",
    "\n",
    "\n",
    "\n",
    "# tsne_df.reset_index(inplace=True)\n",
    "# tsne_df.drop(\"index\",axis=1,inplace=True)\n",
    "# tsne_df.head()\n",
    "\n",
    "\n",
    "# sns.scatterplot(x=\"X\", y=\"Y\",\n",
    "#               hue=\"beer_name\",\n",
    "# #               palette=['purple','red','orange','brown','blue',\n",
    "# #                        'dodgerblue','green','lightgreen','darkcyan', 'black'],\n",
    "# #               legend='full',\n",
    "#               data=tsne_df)\n",
    "\n",
    "\n",
    "# # traceTSNE = go.Scatter(\n",
    "# #     x = tsne_results[:,0],\n",
    "# #     y = tsne_results[:,1],\n",
    "# # #     name = Target,\n",
    "# # #     hoveron = Target,\n",
    "# #     mode = 'markers',\n",
    "# # #     text = Target.unique(),\n",
    "# #     showlegend = True,\n",
    "# #     marker = dict(\n",
    "# #         size = 8,\n",
    "# # #         color = Target,\n",
    "# #         colorscale ='Jet',\n",
    "# #         showscale = False,\n",
    "# #         line = dict(\n",
    "# #             width = 2,\n",
    "# #             color = 'rgb(255, 255, 255)'\n",
    "# #         ),\n",
    "# #         opacity = 0.8\n",
    "# #     )\n",
    "# # )\n",
    "# # data = [traceTSNE]\n",
    "\n",
    "# # layout = dict(title = 'TSNE (T-Distributed Stochastic Neighbour Embedding)',\n",
    "# #               hovermode= 'closest',\n",
    "# #               yaxis = dict(zeroline = False),\n",
    "# #               xaxis = dict(zeroline = False),\n",
    "# #               showlegend= True,\n",
    "\n",
    "# #              )\n",
    "\n",
    "# # fig = go.Figure(data=data, layout=layout)\n",
    "\n",
    "# # fig.show()\n",
    "# # py.iplot(fig, filename='styled-scatter')\n",
    "\n"
   ]
  }
 ],
 "metadata": {
  "kernelspec": {
   "display_name": "Python 3",
   "language": "python",
   "name": "python3"
  },
  "language_info": {
   "codemirror_mode": {
    "name": "ipython",
    "version": 3
   },
   "file_extension": ".py",
   "mimetype": "text/x-python",
   "name": "python",
   "nbconvert_exporter": "python",
   "pygments_lexer": "ipython3",
   "version": "3.7.3"
  }
 },
 "nbformat": 4,
 "nbformat_minor": 4
}
